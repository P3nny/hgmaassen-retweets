{
 "cells": [
  {
   "cell_type": "markdown",
   "metadata": {},
   "source": [
    "## 1. load data and count"
   ]
  },
  {
   "cell_type": "code",
   "execution_count": null,
   "metadata": {},
   "outputs": [],
   "source": [
    "import json\n",
    "from collections import Counter\n",
    "from itertools import combinations\n",
    "from pathlib import Path\n",
    "\n",
    "from tqdm import tqdm\n",
    "\n",
    "from joblib import Parallel, delayed"
   ]
  },
  {
   "cell_type": "code",
   "execution_count": null,
   "metadata": {},
   "outputs": [],
   "source": [
    "def read_data(f):\n",
    "    first_tweet_hgm = 1121716470856155136\n",
    "    tweets = Path(f).read_text().split('\\n')\n",
    "    tweets = [t for t in tweets if t != '']\n",
    "    if len(tweets) == 0:\n",
    "        return\n",
    "    tweets = [json.loads(t) for t in tweets]\n",
    "    rt = [t['retweeted_status']['user']['screen_name'].lower() for t in tweets if 'retweeted_status' in t and t['id'] > first_tweet_hgm]\n",
    "    return rt"
   ]
  },
  {
   "cell_type": "code",
   "execution_count": null,
   "metadata": {},
   "outputs": [],
   "source": [
    "rts = Parallel(n_jobs=8)(delayed(read_data)(f) for f in tqdm(list(Path('/mnt/data/datasets/twitter/tweets-maassen/').glob('*.json'))))"
   ]
  },
  {
   "cell_type": "code",
   "execution_count": null,
   "metadata": {},
   "outputs": [],
   "source": [
    "c = Counter()\n",
    "for names in tqdm(rts):\n",
    "    if names is None or 'hgmaassen' not in names:\n",
    "        continue\n",
    "    c.update(set(names))"
   ]
  },
  {
   "cell_type": "code",
   "execution_count": null,
   "metadata": {},
   "outputs": [],
   "source": [
    "len(c.keys())"
   ]
  },
  {
   "cell_type": "code",
   "execution_count": null,
   "metadata": {},
   "outputs": [],
   "source": [
    "c.most_common(21)"
   ]
  },
  {
   "cell_type": "code",
   "execution_count": null,
   "metadata": {},
   "outputs": [],
   "source": [
    "import pandas as pd"
   ]
  },
  {
   "cell_type": "code",
   "execution_count": null,
   "metadata": {},
   "outputs": [],
   "source": [
    "df = pd.DataFrame([{'name': x[0], 'value': x[1] / c['hgmaassen']} for x in c.most_common(101)[1:]])"
   ]
  },
  {
   "cell_type": "code",
   "execution_count": null,
   "metadata": {},
   "outputs": [],
   "source": [
    "df.to_csv('data.csv', )"
   ]
  },
  {
   "cell_type": "markdown",
   "metadata": {},
   "source": [
    "## 2. create vis with co-ocurrence matrix, PPMI and PCA"
   ]
  },
  {
   "cell_type": "code",
   "execution_count": null,
   "metadata": {},
   "outputs": [],
   "source": [
    "import math\n",
    "\n",
    "import matplotlib.pyplot as plt\n",
    "import numpy as np\n",
    "from scipy.sparse import csr_matrix, coo_matrix, dok_matrix\n",
    "from scipy.sparse.linalg import svds\n",
    "from sklearn.decomposition import PCA\n",
    "from sklearn.preprocessing import MinMaxScaler"
   ]
  },
  {
   "cell_type": "code",
   "execution_count": null,
   "metadata": {},
   "outputs": [],
   "source": [
    "embd_n = 1001"
   ]
  },
  {
   "cell_type": "code",
   "execution_count": null,
   "metadata": {},
   "outputs": [],
   "source": [
    "idx2token = [x[0] for x in list(c.most_common(embd_n)) if x[0] != 'hgmaassen']\n",
    "token2idx = {k: v for v, k in enumerate(idx2token)}\n",
    "n = len(idx2token)"
   ]
  },
  {
   "cell_type": "code",
   "execution_count": null,
   "metadata": {},
   "outputs": [],
   "source": [
    "xs, ys, data = [], [], []\n",
    "for x in tqdm(rts):\n",
    "    if x is None or 'hgmaassen' not in x:\n",
    "        continue\n",
    "    s = set(x)\n",
    "    s = [t for t in s if t in token2idx]\n",
    "    for (c1, c2) in combinations(s, 2):\n",
    "        c1 = token2idx[c1]\n",
    "        c2 = token2idx[c2]\n",
    "        xs.append(c1)\n",
    "        xs.append(c2)\n",
    "        ys.append(c2)\n",
    "        ys.append(c1)\n",
    "        data.append(1/len(s))\n",
    "        data.append(1/len(s))"
   ]
  },
  {
   "cell_type": "code",
   "execution_count": null,
   "metadata": {},
   "outputs": [],
   "source": [
    "num_yes = 0\n",
    "num_no = 0"
   ]
  },
  {
   "cell_type": "code",
   "execution_count": null,
   "metadata": {},
   "outputs": [],
   "source": [
    "for x in tqdm(rts):\n",
    "    if x is None:\n",
    "        continue\n",
    "    if 'hgmaassen' in x:\n",
    "        num_yes += 1\n",
    "    else:\n",
    "        num_no +=1"
   ]
  },
  {
   "cell_type": "code",
   "execution_count": null,
   "metadata": {},
   "outputs": [],
   "source": [
    "num_no"
   ]
  },
  {
   "cell_type": "code",
   "execution_count": null,
   "metadata": {},
   "outputs": [],
   "source": [
    "num_yes"
   ]
  },
  {
   "cell_type": "code",
   "execution_count": null,
   "metadata": {},
   "outputs": [],
   "source": [
    "num_no / len(rts)"
   ]
  },
  {
   "cell_type": "code",
   "execution_count": null,
   "metadata": {},
   "outputs": [],
   "source": [
    "m = coo_matrix((data, (xs, ys)), (n, n), dtype=np.float32)"
   ]
  },
  {
   "cell_type": "code",
   "execution_count": null,
   "metadata": {},
   "outputs": [],
   "source": [
    "m = m.tocsr()"
   ]
  },
  {
   "cell_type": "code",
   "execution_count": null,
   "metadata": {},
   "outputs": [],
   "source": [
    "def calc_pmi(counts, cds):\n",
    "    \"\"\"\n",
    "    Calculates e^PMI; PMI without the log().\n",
    "    \"\"\"\n",
    "\n",
    "    sum_w = np.array(counts.sum(axis=1))[:, 0]\n",
    "    sum_c = np.array(counts.sum(axis=0))[0, :]\n",
    "    if cds != 1:\n",
    "        sum_c = sum_c ** cds\n",
    "    sum_total = sum_c.sum()\n",
    "    sum_w = np.reciprocal(sum_w)\n",
    "    sum_c = np.reciprocal(sum_c)\n",
    "\n",
    "    pmi = csr_matrix(counts)\n",
    "    pmi = multiply_by_rows(pmi, sum_w)\n",
    "    pmi = multiply_by_columns(pmi, sum_c)\n",
    "    pmi = pmi * sum_total\n",
    "    return pmi\n",
    "\n",
    "\n",
    "def multiply_by_rows(matrix, row_coefs):\n",
    "    normalizer = dok_matrix((len(row_coefs), len(row_coefs)))\n",
    "    normalizer.setdiag(row_coefs)\n",
    "    return normalizer.tocsr().dot(matrix)\n",
    "\n",
    "\n",
    "def multiply_by_columns(matrix, col_coefs):\n",
    "    normalizer = dok_matrix((len(col_coefs), len(col_coefs)))\n",
    "    normalizer.setdiag(col_coefs)\n",
    "    return matrix.dot(normalizer.tocsr())"
   ]
  },
  {
   "cell_type": "code",
   "execution_count": null,
   "metadata": {},
   "outputs": [],
   "source": [
    "mm = calc_pmi(m, 0.75)"
   ]
  },
  {
   "cell_type": "code",
   "execution_count": null,
   "metadata": {},
   "outputs": [],
   "source": [
    "res = MinMaxScaler().fit_transform(mm.todense())"
   ]
  },
  {
   "cell_type": "code",
   "execution_count": null,
   "metadata": {},
   "outputs": [],
   "source": [
    "vis_n = 100"
   ]
  },
  {
   "cell_type": "code",
   "execution_count": null,
   "metadata": {},
   "outputs": [],
   "source": [
    "res_vis = res[:vis_n, :]"
   ]
  },
  {
   "cell_type": "code",
   "execution_count": null,
   "metadata": {},
   "outputs": [],
   "source": [
    "res_vis.shape"
   ]
  },
  {
   "cell_type": "code",
   "execution_count": null,
   "metadata": {},
   "outputs": [],
   "source": [
    "res_vis = PCA(n_components=2).fit_transform(res_vis)\n",
    "res_vis = MinMaxScaler().fit_transform(res_vis)"
   ]
  },
  {
   "cell_type": "code",
   "execution_count": null,
   "metadata": {},
   "outputs": [],
   "source": [
    "from adjustText import adjust_text"
   ]
  },
  {
   "cell_type": "code",
   "execution_count": null,
   "metadata": {},
   "outputs": [],
   "source": [
    "from matplotlib import rcParams\n",
    "rcParams['font.family'] = 'lato'"
   ]
  },
  {
   "cell_type": "code",
   "execution_count": null,
   "metadata": {},
   "outputs": [],
   "source": [
    "fig, ax = plt.subplots(figsize=(20, 20))\n",
    "\n",
    "fig.patch.set_visible(False)\n",
    "ax.axis('off')\n",
    "\n",
    "sc = ax.scatter(res_vis[:, 0], res_vis[:, 1], color='black')\n",
    "\n",
    "texts = [plt.text(res_vis[i][0] + 0.015 * 0, res_vis[i][1] - 0.009 * 0, idx2token[i], weight='regular', size='14') for i in range(vis_n)]\n",
    "adjust_text(texts, weight='regular', size='14')"
   ]
  },
  {
   "cell_type": "code",
   "execution_count": null,
   "metadata": {},
   "outputs": [],
   "source": [
    "fig.savefig(\"100.svg\")"
   ]
  },
  {
   "cell_type": "code",
   "execution_count": null,
   "metadata": {},
   "outputs": [],
   "source": []
  },
  {
   "cell_type": "code",
   "execution_count": null,
   "metadata": {},
   "outputs": [],
   "source": []
  }
 ],
 "metadata": {
  "kernelspec": {
   "display_name": "Python 3",
   "language": "python",
   "name": "python3"
  },
  "language_info": {
   "codemirror_mode": {
    "name": "ipython",
    "version": 3
   },
   "file_extension": ".py",
   "mimetype": "text/x-python",
   "name": "python",
   "nbconvert_exporter": "python",
   "pygments_lexer": "ipython3",
   "version": "3.7.3"
  }
 },
 "nbformat": 4,
 "nbformat_minor": 4
}
